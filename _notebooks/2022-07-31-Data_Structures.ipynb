{
  "nbformat": 4,
  "nbformat_minor": 0,
  "metadata": {
    "colab": {
      "name": "DataStructures.ipynb",
      "provenance": [],
      "collapsed_sections": [],
      "authorship_tag": "ABX9TyMgcD6VkGyPF09VwEoxgJDm"
    },
    "kernelspec": {
      "name": "python3",
      "display_name": "Python 3"
    },
    "language_info": {
      "name": "python"
    }
  },
  "cells": [
    {
      "cell_type": "markdown",
      "source": [
        "# Custom Data Structures, a Preface to Graph Neural Networks"
      ],
      "metadata": {
        "id": "_Kb5xmhR7feJ"
      }
    },
    {
      "cell_type": "markdown",
      "source": [
        "So far in previous ML posts, we've customized an algorihim to work with the structure offered by numpy arrays representing matrices.  Depending on the algorithim applied, numpy arrays may not be the most efficient structure to work with.\n",
        "\n",
        "What are we talking about here?  [Data Structures](https://towardsdatascience.com/8-common-data-structures-every-programmer-must-know-171acf6a1a42) are a specialized means of organizing and storing data in computers in such a way that we can perform operations on the stored data more efficiently.\n",
        "\n",
        "Early in my coding career, I discovered that in the programming world, we abstract data in a structure that can be represented as class object nodes.  Specifically, while on assignment at Bank of America Merchant services by direction of my superior, I did some deep diving into MS SQL online transactional processing relational database engines and how they work.  Internally, this particular product would rely upon applying algorithims to a data structure called a B-tree.  Shout out to Itzik Ben-Gan, who wrote some literature that became foundational to my understanding of relational database management engines.  My boss at BAMS happened to be involved with the technical review of Itzik's popular literature.  These books were strongly recommended during my project onboarding.  I have these books close by to date via Kindle.\n",
        "\n",
        "B-trees as an astraction of data, presented themselves to me as difficult to comprehend.  Before learning of them, my world consisted of tables or views: database objects that we may imagine as behaving like a spreadsheet.  The table object in my in my mind's eye was revealed as an abstract way to view B-trees, underneath.\n",
        "\n",
        "These B-tree structures and the algorithims that are applied to them are abstracted away from the analyst or administrator working in the database by means of structured query language or SQL.  This opened up the natural observation that it would be critical for me to understand more about data structures if I want to go a layer deeper than the SQL [abstractions](https://www.sqlshack.com/sql-server-index-structure-and-concepts/#:~:text=The%20B%2DTree%20structure%20provides,all%20the%20underlying%20table%20rows.).  All of the sudden, there was more to the universe than user defined functions, procedures, and table objects.  B-trees and their \"pages\" are a variant of binary search trees, a node-based binary tree data structure."
      ],
      "metadata": {
        "id": "Ez00uLnZ2q8g"
      }
    },
    {
      "cell_type": "markdown",
      "source": [
        "## Scope\n",
        "\n",
        "In this post we'll illustrate our knowledge of common data structures, how to work with them.  Our aim here is to level set some understanding that we'll need before jumping into the topic of graph neural networks.  You see, graphs are their own classification of custom data structure and graph neural networks, or GNN's have some interesting applications in the ML world.\n",
        "\n",
        "Where to begin?  My knowledge is finite.  In honesty, after satisfying my initial curiousity, the subject would be revisted in very few instances in my career.  Outside of the deprecated queue, I have hardly see custom structures in production during my career.  In 2018, I learned how to build an algorithim that functions in traversing a linked list in fear that it would come up one day in a technical interview.  To this day, it never has.\n",
        "\n",
        "To ramp up the basics of data structures, we should discuss \n",
        "  1. linked lists, \n",
        "  2. binary search trees, \n",
        "  3. and graphs.\n",
        "\n",
        "With an understanding of these three data structures, our readers should be able to follow subsequent discussions around GNN's.  Let's state that as our goal.  One of the objectives of this blog is to demonstrate my knowledge and transfer what I know to those who care to learn more.\n",
        "\n",
        "Other common data structures include arrays, hash tables.  These are variants of python [lists](https://byjus.com/gate/difference-between-list-and-array-in-python/#:~:text=List%20is%20used%20to%20collect,of%20the%20same%20data%20type.&text=List%20cannot%20manage%20arithmetic%20operations,Array%20can%20manage%20arithmetic%20operations.) and [dictionaries](https://stackoverflow.com/questions/2061222/what-is-the-true-difference-between-a-dictionary-and-a-hash-table#:~:text=A%20dictionary%20is%20a%20data,or%20more%20values%20are%20stored.).  I'm not going to spend time on those here.  We've spent some time working with them in previous posts, already.  Remember we just want the bottom line up front when it comes to the mysterious prerequisites for working with GNN's.  I will say before learning minimal nuances, my experiences in working with arrays and hash table like structures are rooted in JavaScript front end development and backend development with Django, .NET, nodeJS.  To that end, I was first exposed to hash tables before gaining object oriented experience by way of witnessing the `HASH JOIN` SQL operation at BAMS and following up with Itzik's literature.\n",
        "\n",
        "In common practices, detailed understanding data structures and algorithms are abstracted away through the use of data science libraries like sci kit learn.  I figure if we want to get to the good stuff, we need to at least cover the basics for how some of these internal mechanics of ML training and prediction processes function.  Let's also state the application of data structures and algorithims extend far beyond machine learning."
      ],
      "metadata": {
        "id": "LvFFFThj9FYX"
      }
    },
    {
      "cell_type": "markdown",
      "source": [
        "## Data Generation\n",
        "\n",
        "If data structures are specialized means of organizing data in memory or storage, such that we can work with them more efficiently, we need to start our journey by producing a dataset.  I am a student of Mathematics: as previous member of an educational institution, yes, but also in life beyond school.\n",
        "\n",
        "A sequence of data points or numbers that has always intrigued me includes prime numbers.  For the sake of having data values to work with, let's create an algorithim that functions in returning the first **n** members of the prime number sequence.\n",
        "\n",
        "### Given\n",
        "\n",
        "A [prime number](https://www.techtarget.com/whatis/definition/prime-number#:~:text=A%20prime%20number%20is%20a,%2C%2019%2C%2023%20and%2029.) is a whole number greater than 1 whose only factors are 1 and itself. A factor is a whole number that can be divided evenly into another number. The first few prime numbers are 2, 3, 5, 7, 11, 13, 17, 19, 23 and 29.\n",
        "\n",
        "### Implementation\n",
        "\n",
        "This function could easily be implemented as a method of a custom class object acting as an instantiation of a custom data structure."
      ],
      "metadata": {
        "id": "uU2SNLp7Iyyn"
      }
    },
    {
      "cell_type": "code",
      "source": [
        "def genPrimeLi(n=10):\n",
        "  try:\n",
        "    assert n > 0, \"number of elements must be greater than zero\"\n",
        "    assert isinstance(n, int), \"number of elements must be an integer\"\n",
        "    seq = []\n",
        "    seq.append(2)\n",
        "    idx = 1\n",
        "    if n > 1:\n",
        "      idx += 1\n",
        "      delta = 1\n",
        "      factor = 2\n",
        "      lastElement = 3\n",
        "      seq.append(lastElement)\n",
        "    while idx < n:\n",
        "      nextElement = lastElement + delta\n",
        "      if nextElement % factor != 0:\n",
        "        factor += 1\n",
        "      elif factor == nextElement:\n",
        "        seq.append(nextElement)\n",
        "        lastElement = nextElement\n",
        "        idx += 1\n",
        "        delta = 1\n",
        "        factor = 2\n",
        "      else:\n",
        "        delta += 1\n",
        "        factor = 2\n",
        "    return seq\n",
        "  except AssertionError as msg:\n",
        "    print(msg)\n"
      ],
      "metadata": {
        "id": "2J3b_CtfIxFQ"
      },
      "execution_count": 1,
      "outputs": []
    },
    {
      "cell_type": "code",
      "source": [
        "genPrimeLi()"
      ],
      "metadata": {
        "colab": {
          "base_uri": "https://localhost:8080/"
        },
        "id": "qnYhZePED3RO",
        "outputId": "8f68742f-882e-43fa-b136-1592a0919033"
      },
      "execution_count": 2,
      "outputs": [
        {
          "output_type": "execute_result",
          "data": {
            "text/plain": [
              "[2, 3, 5, 7, 11, 13, 17, 19, 23, 29]"
            ]
          },
          "metadata": {},
          "execution_count": 2
        }
      ]
    },
    {
      "cell_type": "markdown",
      "source": [
        "## Linked Lists\n",
        "\n",
        "Now that we've generated a sequence of prime numbers structured as a List, we'll generate the same sequence as a LinkedList."
      ],
      "metadata": {
        "id": "gB4cW1d9IjQg"
      }
    },
    {
      "cell_type": "code",
      "source": [
        "class Node:\n",
        "  def __init__(self, data=None):\n",
        "    self.data = data\n",
        "    self.next = None\n",
        "  def __repr__(self):\n",
        "    return str(self.data)"
      ],
      "metadata": {
        "id": "p9d3qtPHWK8K"
      },
      "execution_count": 3,
      "outputs": []
    },
    {
      "cell_type": "code",
      "source": [
        "class LinkedList:\n",
        "  def __init__(self):\n",
        "    self.head = None\n",
        "  def __repr__(self):\n",
        "    node = self.head\n",
        "    nodes = []\n",
        "    while node != None:\n",
        "      nodes.append(str(node.data))\n",
        "      node = node.next\n",
        "    nodes.append('empty')\n",
        "    return ' >> '.join(nodes)\n",
        "  def append(self, data=None):\n",
        "    node = self.head\n",
        "    if self.head == None:\n",
        "      self.head = Node(data)\n",
        "    else:\n",
        "      while node.next != None:\n",
        "        node = node.next\n",
        "      node.next = Node(data)\n",
        "  def traverse(self, func):\n",
        "    try:\n",
        "      assert callable(func), \"function must be callable\"\n",
        "      assert self.head != None, \"LinkedList is empty\"\n",
        "      node = self.head\n",
        "      while node != None:\n",
        "        func(node.data)\n",
        "        node = node.next\n",
        "    except AssertionError as msg:\n",
        "      print(msg)"
      ],
      "metadata": {
        "id": "tvnurexbZb7t"
      },
      "execution_count": 4,
      "outputs": []
    },
    {
      "cell_type": "code",
      "source": [
        "ll = LinkedList()"
      ],
      "metadata": {
        "id": "CLu5ob6sZ9YA"
      },
      "execution_count": 5,
      "outputs": []
    },
    {
      "cell_type": "code",
      "source": [
        "ll.append(1)\n",
        "ll.append(2)\n",
        "ll.append(3)\n",
        "ll"
      ],
      "metadata": {
        "colab": {
          "base_uri": "https://localhost:8080/"
        },
        "id": "u55B5cV6aF2N",
        "outputId": "c1581fb6-85f1-4fa1-cf76-50d7ec0cca01"
      },
      "execution_count": 6,
      "outputs": [
        {
          "output_type": "execute_result",
          "data": {
            "text/plain": [
              "1 >> 2 >> 3 >> empty"
            ]
          },
          "metadata": {},
          "execution_count": 6
        }
      ]
    },
    {
      "cell_type": "code",
      "source": [
        "primeLinkedList = LinkedList()\n",
        "for e in genPrimeLi():\n",
        "  primeLinkedList.append(e)\n",
        "primeLinkedList"
      ],
      "metadata": {
        "id": "l7aEWr6iaKGL",
        "colab": {
          "base_uri": "https://localhost:8080/"
        },
        "outputId": "35cd356b-4023-430b-bfb1-4172d7667b75"
      },
      "execution_count": 7,
      "outputs": [
        {
          "output_type": "execute_result",
          "data": {
            "text/plain": [
              "2 >> 3 >> 5 >> 7 >> 11 >> 13 >> 17 >> 19 >> 23 >> 29 >> empty"
            ]
          },
          "metadata": {},
          "execution_count": 7
        }
      ]
    },
    {
      "cell_type": "code",
      "source": [
        "primeLinkedList.traverse(print)"
      ],
      "metadata": {
        "colab": {
          "base_uri": "https://localhost:8080/"
        },
        "id": "npu9Thq4l460",
        "outputId": "134749d2-4922-44ef-e5a0-c7389f56371a"
      },
      "execution_count": 8,
      "outputs": [
        {
          "output_type": "stream",
          "name": "stdout",
          "text": [
            "2\n",
            "3\n",
            "5\n",
            "7\n",
            "11\n",
            "13\n",
            "17\n",
            "19\n",
            "23\n",
            "29\n"
          ]
        }
      ]
    },
    {
      "cell_type": "markdown",
      "source": [
        "Additional methods for LinkedList class might include insert, count, delete.  There are variations of the linked list.  Explore the web for the deprecated queue and other variants."
      ],
      "metadata": {
        "id": "MBGLhHKUp03T"
      }
    },
    {
      "cell_type": "markdown",
      "source": [
        "## Binary Search Tree\n",
        "Now that we've generated a sequence of prime numbers structured as a LinkedList, we'll generate the same sequence as a binary search tree.  A binary search tree, and a linked list are both special classes of graphs that are acyclic."
      ],
      "metadata": {
        "id": "gDt3WkLfqbmm"
      }
    },
    {
      "cell_type": "code",
      "source": [
        "class BSTNode:\n",
        "  def __init__(self, data=None):\n",
        "    self.data = data\n",
        "    self.right = None\n",
        "    self.left = None"
      ],
      "metadata": {
        "id": "6P5aQ_65pz8i"
      },
      "execution_count": 9,
      "outputs": []
    },
    {
      "cell_type": "code",
      "source": [
        "class BinarySearchTree:\n",
        "  def __init__(self):\n",
        "    self.head = None\n",
        "    "
      ],
      "metadata": {
        "id": "GFcZMh9rymxE"
      },
      "execution_count": null,
      "outputs": []
    },
    {
      "cell_type": "markdown",
      "source": [
        "# !UNDER CONSTRUCTION, CHECK BACK FOR MORE SOON!"
      ],
      "metadata": {
        "id": "IwDy2opw1avI"
      }
    }
  ]
}